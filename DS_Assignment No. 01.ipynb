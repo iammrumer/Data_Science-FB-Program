{
 "cells": [
  {
   "cell_type": "code",
   "execution_count": 1,
   "id": "d80b0643",
   "metadata": {},
   "outputs": [],
   "source": [
    "# Assignment NO 1"
   ]
  },
  {
   "cell_type": "code",
   "execution_count": 11,
   "id": "dc0c6b92",
   "metadata": {},
   "outputs": [],
   "source": [
    "# Question No 01"
   ]
  },
  {
   "cell_type": "code",
   "execution_count": 10,
   "id": "c7494d72",
   "metadata": {},
   "outputs": [
    {
     "name": "stdout",
     "output_type": "stream",
     "text": [
      "Twinkle Twinkle Little Star, \n",
      "\t How I Wounder what you are! \n",
      "\t\tUp above the world so high, \n",
      "\t\tLike the diamond in the sky.\n",
      "Twinkle Twinkle Little Star, \n",
      "\t How I Wounder what you are! \n"
     ]
    }
   ],
   "source": [
    "print(\"Twinkle Twinkle Little Star, \\n\\t How I Wounder what you are! \\n\\t\\tUp above the world so high, \\n\\t\\tLike the diamond in the sky.\\nTwinkle Twinkle Little Star, \\n\\t How I Wounder what you are! \")"
   ]
  },
  {
   "cell_type": "code",
   "execution_count": 12,
   "id": "1cbb5d1b",
   "metadata": {},
   "outputs": [],
   "source": [
    "# Question No 02"
   ]
  },
  {
   "cell_type": "code",
   "execution_count": 35,
   "id": "d2c6a48e",
   "metadata": {},
   "outputs": [
    {
     "data": {
      "text/plain": [
       "'3.8.8 (default, Apr 13 2021, 15:08:03) [MSC v.1916 64 bit (AMD64)]'"
      ]
     },
     "execution_count": 35,
     "metadata": {},
     "output_type": "execute_result"
    }
   ],
   "source": [
    "import sys\n",
    "sys.version"
   ]
  },
  {
   "cell_type": "code",
   "execution_count": 36,
   "id": "5161ec1a",
   "metadata": {},
   "outputs": [],
   "source": [
    "# Question No 03"
   ]
  },
  {
   "cell_type": "code",
   "execution_count": 34,
   "id": "35049b7c",
   "metadata": {},
   "outputs": [
    {
     "name": "stdout",
     "output_type": "stream",
     "text": [
      "2022-01-01 15:26:07.322327\n"
     ]
    }
   ],
   "source": [
    "import datetime\n",
    "\n",
    "now = datetime.datetime.now()\n",
    "\n",
    "print(now)"
   ]
  },
  {
   "cell_type": "code",
   "execution_count": 37,
   "id": "dba14569",
   "metadata": {},
   "outputs": [],
   "source": [
    "# Question No 04"
   ]
  },
  {
   "cell_type": "code",
   "execution_count": 47,
   "id": "497625f7",
   "metadata": {},
   "outputs": [
    {
     "name": "stdout",
     "output_type": "stream",
     "text": [
      "Please input radius of the circle25\n",
      "Area of the Circle is 1964.2857142857142\n"
     ]
    }
   ],
   "source": [
    "radius = int(input('Please input radius of the circle'))\n",
    "\n",
    "Area = 22/7 * radius**2\n",
    "\n",
    "print(f\"Area of the Circle is {Area}\")"
   ]
  },
  {
   "cell_type": "code",
   "execution_count": 48,
   "id": "206a2366",
   "metadata": {},
   "outputs": [],
   "source": [
    "#Question No. 05"
   ]
  },
  {
   "cell_type": "code",
   "execution_count": 50,
   "id": "0a1e7850",
   "metadata": {},
   "outputs": [
    {
     "name": "stdout",
     "output_type": "stream",
     "text": [
      "Enter your First Name : Umer\n",
      "Enter your Last Name : Iqbal\n",
      "your Name is Iqbal Umer\n"
     ]
    }
   ],
   "source": [
    "First_Name = input(\"Enter your First Name : \")\n",
    "Last_Name = input(\"Enter your Last Name : \")\n",
    "\n",
    "print(f\"your Name is {Last_Name} {First_Name}\")\n"
   ]
  },
  {
   "cell_type": "code",
   "execution_count": 53,
   "id": "57428083",
   "metadata": {},
   "outputs": [],
   "source": [
    "#Question No. 06"
   ]
  },
  {
   "cell_type": "code",
   "execution_count": 52,
   "id": "a11871e7",
   "metadata": {},
   "outputs": [
    {
     "name": "stdout",
     "output_type": "stream",
     "text": [
      "Enter Number 01:  2\n",
      "Enter Number 02:  2\n",
      "Your Total is 4\n"
     ]
    }
   ],
   "source": [
    "Num1 = int(input(\"Enter Number 01:  \"))\n",
    "Num2 = int(input(\"Enter Number 02:  \"))\n",
    "Total = Num1 + Num2\n",
    "print(f\"Your Total is {Total}\")"
   ]
  },
  {
   "cell_type": "code",
   "execution_count": null,
   "id": "322b4fd7",
   "metadata": {},
   "outputs": [],
   "source": []
  }
 ],
 "metadata": {
  "kernelspec": {
   "display_name": "Python 3",
   "language": "python",
   "name": "python3"
  },
  "language_info": {
   "codemirror_mode": {
    "name": "ipython",
    "version": 3
   },
   "file_extension": ".py",
   "mimetype": "text/x-python",
   "name": "python",
   "nbconvert_exporter": "python",
   "pygments_lexer": "ipython3",
   "version": "3.8.8"
  }
 },
 "nbformat": 4,
 "nbformat_minor": 5
}
